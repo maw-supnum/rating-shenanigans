{
 "cells": [
  {
   "cell_type": "markdown",
   "metadata": {},
   "source": [
    "# Shenanigans Forever"
   ]
  },
  {
   "cell_type": "markdown",
   "metadata": {},
   "source": [
    "Our goal from this notebook is reset the distributions of students' scores in a class. We are given the scores of the students in the class. \n",
    "Sometimes we could not evaluate if it is actually the students who did not study enough or the teacher who came up with a very difficult exam.\n",
    "To settle this, we will try to reset the scores of the students to a centered normal distribution. \n",
    "Later, that grade will be translated to a grade between 0 and 20 (as in the French system).\n",
    "\n",
    "rules for resetting the mean $\\mu$: \n",
    "- if the normal distribution has a mean that is less than $0$, the teacher could find himself in Prisoner's dilemma. \n",
    "    - he should recheck his exam, if he is find the exam is too difficult, he should reset the mean to 10.\n",
    "    - if he is confident that the exam is fair, he should reset the mean between 8-10. depending on the difficulty of the exam. He should avoid the extreme case where students     plotted against the exam and cooperated not to study.\n",
    "- if the normal distribution has a mean that is greater than $0$, the teacher should reset the mean between 10 and 13. \n",
    "\n",
    "\n",
    "rules for resetting the standard deviation $\\sigma$:\n",
    "- The standard deviation should be reset between 2 and 5, depending on how well most serious students performed in the exam. \n",
    "\n",
    "Attribution of normalized grades:\n",
    "- each student's normalized grade $g_n$ will be calculated as follows given his centerend score $x$:\n",
    "    - $g_n = \\sigma \\times x + \\mu$\n",
    "\n",
    "\n",
    "No student should get a grade less than $0$ or more than $20$.\n",
    "No student should get a grade less than what he would have gotten if no normalization was done. \n",
    "\n",
    "Assume that original grades have scores between $0$ and $s_{max}$.\n",
    "\n",
    "- the final grade for a student with a score $s$ will be calculated as follows:\n",
    "    - $g_f = max(\\frac{s \\times 20}{s_{max}} , min(20, g_n))$"
   ]
  },
  {
   "cell_type": "code",
   "execution_count": null,
   "metadata": {},
   "outputs": [],
   "source": [
    "# imports\n",
    "import numpy as np\n",
    "import pandas as pd"
   ]
  },
  {
   "cell_type": "code",
   "execution_count": null,
   "metadata": {},
   "outputs": [],
   "source": [
    "# define the for centering and normalizing function\n",
    "def normalize(data: list[float]) -> list[float]:\n",
    "\n",
    "    # calculate the mean of the data\n",
    "    mean = np.mean(data)\n",
    "    # calculate the standard deviation of the data\n",
    "    std = np.std(data)\n",
    "\n",
    "    # center the data\n",
    "    centered_data = [x - mean for x in data]\n",
    "    # normalize the data\n",
    "    normalized_data = [x / std for x in centered_data]\n",
    "\n",
    "    return normalized_data"
   ]
  },
  {
   "cell_type": "code",
   "execution_count": null,
   "metadata": {},
   "outputs": [],
   "source": [
    "# read the data from the csv file\n",
    "data = pd.read_csv('grades.csv')\n",
    "\n",
    "# max_score\n",
    "max_score = 63\n",
    "\n",
    "# normilized-centered data\n",
    "normalized_data = normalize(data['Score'])\n",
    "\n",
    "# check the data mean score\n",
    "print('Mean: ', np.mean(data['Score']))\n",
    "\n",
    "# check the data standard deviation\n",
    "print('Standard Deviation: ', np.std(data['Score']))\n",
    "\n",
    "# print five best scores\n",
    "print('Five Best Scores: ', sorted(data['Score'], reverse=True)[:5])\n",
    "\n",
    "# print five best normalized scores\n",
    "print('Five Best Normalized Scores: ', sorted(normalized_data, reverse=True)[:5])"
   ]
  },
  {
   "cell_type": "code",
   "execution_count": null,
   "metadata": {},
   "outputs": [],
   "source": [
    "# reset mean for normalized data\n",
    "reset_mean = 10\n",
    "\n",
    "# set deviation for normalized data\n",
    "reset_std = 1.5\n",
    "\n",
    "# reset the data\n",
    "reset_data = [min(20, max(0, x * reset_std + reset_mean)) for x in normalized_data]\n",
    "\n",
    "# original grading\n",
    "original_grades = [s * 20 / max_score for s in data['Score']]\n",
    "\n",
    "# final grades\n",
    "final_grades = [max(g_n, g_o) for g_n, g_o in zip(reset_data, original_grades)]"
   ]
  },
  {
   "cell_type": "code",
   "execution_count": null,
   "metadata": {},
   "outputs": [],
   "source": [
    "data['Final Grade'] = final_grades\n",
    "\n",
    "# save the data to a new csv file\n",
    "data.to_csv('grades_final.csv', index=False)"
   ]
  }
 ],
 "metadata": {
  "kernelspec": {
   "display_name": ".venv",
   "language": "python",
   "name": "python3"
  },
  "language_info": {
   "codemirror_mode": {
    "name": "ipython",
    "version": 3
   },
   "file_extension": ".py",
   "mimetype": "text/x-python",
   "name": "python",
   "nbconvert_exporter": "python",
   "pygments_lexer": "ipython3",
   "version": "3.12.3"
  }
 },
 "nbformat": 4,
 "nbformat_minor": 2
}
